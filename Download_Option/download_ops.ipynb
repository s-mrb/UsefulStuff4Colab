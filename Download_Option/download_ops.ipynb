{
  "nbformat": 4,
  "nbformat_minor": 0,
  "metadata": {
    "colab": {
      "name": "download_ops.ipynb",
      "provenance": [],
      "collapsed_sections": []
    },
    "kernelspec": {
      "name": "python3",
      "display_name": "Python 3"
    }
  },
  "cells": [
    {
      "cell_type": "markdown",
      "metadata": {
        "id": "OelkOJKJkvjI",
        "colab_type": "text"
      },
      "source": [
        "**Option 1**\n",
        "\n",
        "slow"
      ]
    },
    {
      "cell_type": "code",
      "metadata": {
        "id": "fwRx9e4PkpNB",
        "colab_type": "code",
        "colab": {}
      },
      "source": [
        "import requests  \n",
        "file_url = \"\"\n",
        "    \n",
        "r = requests.get(file_url, stream = True)  \n",
        "  \n",
        "with open(\"outpath_with_name_of_file_added\", \"wb\") as file:  \n",
        "    for block in r.iter_content(chunk_size = 1024): \n",
        "         if block:  \n",
        "             file.write(block) "
      ],
      "execution_count": 0,
      "outputs": []
    },
    {
      "cell_type": "markdown",
      "metadata": {
        "id": "t9E8AUEslEU_",
        "colab_type": "text"
      },
      "source": [
        "**Option 2**\n",
        "\n",
        "a bit fast"
      ]
    },
    {
      "cell_type": "code",
      "metadata": {
        "id": "z3odHj8llHtD",
        "colab_type": "code",
        "colab": {}
      },
      "source": [
        "url         = \"\"\n",
        "output_path = \"\"\n",
        "name        =\"\"\n",
        "\n",
        "# following command saves in current directory\n",
        "!wget \"$url\" -p \"$output_path\"\n",
        "\n",
        "\n",
        "# following command download file and stores it with the remote name in new directory\n",
        "!wget \"$url\" -P \"$output_path\"\n",
        "\n",
        "# following command will save with new name in new directory\n",
        "!wget -O \"$newname\" \"$url\" -p \"$output_path\"\n",
        "\n",
        "\n",
        "# following command will save with new name in new directory\n",
        "!wget --output-document= \"$newname\" \"$url\" -p \"$output_path\"\n",
        "\n",
        "\n",
        "# following command will save with new name in new directory\n",
        "!wget -O \"$output_path\\$name\" \"$url\"\n",
        "\n"
      ],
      "execution_count": 0,
      "outputs": []
    },
    {
      "cell_type": "markdown",
      "metadata": {
        "id": "zygkAsfXoOPg",
        "colab_type": "text"
      },
      "source": [
        "**Option 3**"
      ]
    },
    {
      "cell_type": "code",
      "metadata": {
        "id": "RtBwIOEWoQAl",
        "colab_type": "code",
        "colab": {}
      },
      "source": [
        "url = \"\"\n",
        "curl \"$url\" -o \"downloads/$page\""
      ],
      "execution_count": 0,
      "outputs": []
    },
    {
      "cell_type": "markdown",
      "metadata": {
        "id": "QpoCiUaClaPf",
        "colab_type": "text"
      },
      "source": [
        "**Unzipping**"
      ]
    },
    {
      "cell_type": "markdown",
      "metadata": {
        "id": "c690l14QlkH5",
        "colab_type": "text"
      },
      "source": [
        "**zip files**\n",
        "\n",
        "**Option 1**"
      ]
    },
    {
      "cell_type": "code",
      "metadata": {
        "id": "YVxAMR7VlcGY",
        "colab_type": "code",
        "colab": {}
      },
      "source": [
        "!unzip -uq path_in -d path_out"
      ],
      "execution_count": 0,
      "outputs": []
    },
    {
      "cell_type": "markdown",
      "metadata": {
        "id": "8EQEWaRNlroC",
        "colab_type": "text"
      },
      "source": [
        "**Option 2**\n",
        "\n",
        "crash colab sometime for huge files and\n",
        "do not work for tar zips"
      ]
    },
    {
      "cell_type": "code",
      "metadata": {
        "id": "5vfPhkBslwjM",
        "colab_type": "code",
        "colab": {}
      },
      "source": [
        "import shutil\n",
        "shutil.unpack_archive(path, path2)"
      ],
      "execution_count": 0,
      "outputs": []
    },
    {
      "cell_type": "markdown",
      "metadata": {
        "id": "Jl9jg3QDlmwQ",
        "colab_type": "text"
      },
      "source": [
        "**tar zips**"
      ]
    },
    {
      "cell_type": "code",
      "metadata": {
        "id": "Tfp4yFGyl1wc",
        "colab_type": "code",
        "colab": {}
      },
      "source": [
        "import tarfile\n",
        "\n",
        "# to pass varibale see wget example\n",
        "!tar -xvzf /content/gdb13.zip -C /content/h"
      ],
      "execution_count": 0,
      "outputs": []
    }
  ]
}